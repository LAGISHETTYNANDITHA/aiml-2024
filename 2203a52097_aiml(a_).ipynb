{
  "nbformat": 4,
  "nbformat_minor": 0,
  "metadata": {
    "colab": {
      "provenance": [],
      "authorship_tag": "ABX9TyMWoGKiuYNUQ9v3UXTxCxMp",
      "include_colab_link": true
    },
    "kernelspec": {
      "name": "python3",
      "display_name": "Python 3"
    },
    "language_info": {
      "name": "python"
    }
  },
  "cells": [
    {
      "cell_type": "markdown",
      "metadata": {
        "id": "view-in-github",
        "colab_type": "text"
      },
      "source": [
        "<a href=\"https://colab.research.google.com/github/LAGISHETTYNANDITHA/aiml-2024/blob/main/2203a52097_aiml(a_).ipynb\" target=\"_parent\"><img src=\"https://colab.research.google.com/assets/colab-badge.svg\" alt=\"Open In Colab\"/></a>"
      ]
    },
    {
      "cell_type": "code",
      "source": [
        "from copy import deepcopy\n",
        "import numpy as np\n",
        "import time\n",
        "\n",
        "def bestsolution(state):\n",
        "    bestsol = np.array([], int).reshape(-1, 9)\n",
        "    count = len(state) - 1\n",
        "    while count != -1:\n",
        "        bestsol = np.insert(bestsol, 0, state[count]['puzzle'], 0)\n",
        "        count = state[count]['parent']\n",
        "    return bestsol.reshape(-1, 3, 3)\n",
        "\n",
        "def misplaced_tiles(puzzle, goal):\n",
        "    mscost = np.sum(puzzle != goal) - 1\n",
        "    return mscost if mscost > 0 else 0\n",
        "\n",
        "def coordinates(puzzle):\n",
        "    pos = np.array(range(9))\n",
        "    for p, q in enumerate(puzzle):\n",
        "        pos[q] = p\n",
        "    return pos\n",
        "\n",
        "def evaluvate_misplaced(puzzle, goal):\n",
        "    steps = np.array([\n",
        "        ('u', [0, 1, 2], -3),\n",
        "        ('d', [6, 7, 8], 3),\n",
        "        ('l', [0, 3, 6], -1),\n",
        "        ('r', [2, 5, 8], 1)\n",
        "    ], dtype=[('move', str, 1), ('position', list), ('head', int)])\n",
        "\n",
        "    dtstate = [('puzzle', list), ('parent', int), ('gn', int), ('hn', int)]\n",
        "    costg = coordinates(goal)\n",
        "\n",
        "    parent = -1\n",
        "    gn = 0\n",
        "    hn = misplaced_tiles(coordinates(puzzle), costg)\n",
        "    state = np.array([(puzzle, parent, gn, hn)], dtstate)\n",
        "\n",
        "    dtpriority = [('position', int), ('fn', int)]\n",
        "    priority = np.array([(0, hn)], dtpriority)\n",
        "\n",
        "    while True:\n",
        "        priority = np.sort(priority, kind='mergesort', order=['fn', 'position'])\n",
        "        position, fn = priority[0]\n",
        "        priority = np.delete(priority, 0, 0)\n",
        "\n",
        "        puzzle, parent, gn, hn = state[position]\n",
        "        puzzle = np.array(puzzle)\n",
        "        blank = int(np.where(puzzle == 0)[0])\n",
        "        gn = gn + 1\n",
        "\n",
        "        start_time = time.time()\n",
        "\n",
        "        for s in steps:\n",
        "            if blank not in s['position']:\n",
        "                openstates = deepcopy(puzzle)\n",
        "                openstates[blank], openstates[blank + s['head']] = openstates[blank + s['head']], openstates[blank]\n",
        "\n",
        "                already_in_state = any(np.array_equal(openstates, np.array(st['puzzle'])) for st in state)\n",
        "\n",
        "                if not already_in_state:\n",
        "                    end_time = time.time()\n",
        "                    if end_time - start_time > 2:\n",
        "                        print(\"The 8 puzzle is unsolvable\\n\")\n",
        "                        return state, len(priority)\n",
        "\n",
        "                    hn = misplaced_tiles(coordinates(openstates), costg)\n",
        "                    new_state = np.array([(openstates.tolist(), position, gn, hn)], dtstate)\n",
        "                    state = np.append(state, new_state)\n",
        "\n",
        "                    fn = gn + hn\n",
        "                    new_priority = np.array([(len(state) - 1, fn)], dtpriority)\n",
        "                    priority = np.append(priority, new_priority)\n",
        "\n",
        "                    if np.array_equal(openstates, goal):\n",
        "                        print('The 8 puzzle is solvable\\n')\n",
        "                        return state, len(priority)\n",
        "\n",
        "# Initial puzzle state\n",
        "puzzle = [2, 8, 3,\n",
        "          7, 1, 4,\n",
        "          0, 6, 5]\n",
        "\n",
        "# Goal state\n",
        "goal = [1, 2, 3,\n",
        "        8, 0, 4,\n",
        "        7, 6, 5]\n",
        "\n",
        "state, visited = evaluvate_misplaced(puzzle, goal)\n",
        "bestpath = bestsolution(state)\n",
        "\n",
        "print(str(bestpath).replace('[', '').replace(']', ''))\n",
        "totalmoves = len(bestpath) - 1\n",
        "print('\\nSteps to reach goal:', totalmoves)\n",
        "visit = len(state) - visited\n",
        "print('Total nodes visited:', visit, \"\\n\")\n"
      ],
      "metadata": {
        "colab": {
          "base_uri": "https://localhost:8080/"
        },
        "id": "ijURitToXEsL",
        "outputId": "40803923-b823-4822-9974-f9219fa3ce75"
      },
      "execution_count": 3,
      "outputs": [
        {
          "output_type": "stream",
          "name": "stdout",
          "text": [
            "The 8 puzzle is solvable\n",
            "\n",
            "2 8 3\n",
            "  7 1 4\n",
            "  0 6 5\n",
            "\n",
            " 2 8 3\n",
            "  0 1 4\n",
            "  7 6 5\n",
            "\n",
            " 2 8 3\n",
            "  1 0 4\n",
            "  7 6 5\n",
            "\n",
            " 2 0 3\n",
            "  1 8 4\n",
            "  7 6 5\n",
            "\n",
            " 0 2 3\n",
            "  1 8 4\n",
            "  7 6 5\n",
            "\n",
            " 1 2 3\n",
            "  0 8 4\n",
            "  7 6 5\n",
            "\n",
            " 1 2 3\n",
            "  8 0 4\n",
            "  7 6 5\n",
            "\n",
            "Steps to reach goal: 6\n",
            "Total nodes visited: 11 \n",
            "\n"
          ]
        },
        {
          "output_type": "stream",
          "name": "stderr",
          "text": [
            "<ipython-input-3-f9d660d9182a>:49: DeprecationWarning: Conversion of an array with ndim > 0 to a scalar is deprecated, and will error in future. Ensure you extract a single element from your array before performing this operation. (Deprecated NumPy 1.25.)\n",
            "  blank = int(np.where(puzzle == 0)[0])\n"
          ]
        }
      ]
    }
  ]
}