{
  "nbformat": 4,
  "nbformat_minor": 0,
  "metadata": {
    "colab": {
      "provenance": [],
      "authorship_tag": "ABX9TyMpuR/rZs5XdqZOsqS9c/o3",
      "include_colab_link": true
    },
    "kernelspec": {
      "name": "python3",
      "display_name": "Python 3"
    },
    "language_info": {
      "name": "python"
    }
  },
  "cells": [
    {
      "cell_type": "markdown",
      "metadata": {
        "id": "view-in-github",
        "colab_type": "text"
      },
      "source": [
        "<a href=\"https://colab.research.google.com/github/LAGISHETTYNANDITHA/aiml-2024/blob/main/2203a52097_aiml.ipynb\" target=\"_parent\"><img src=\"https://colab.research.google.com/assets/colab-badge.svg\" alt=\"Open In Colab\"/></a>"
      ]
    },
    {
      "cell_type": "code",
      "execution_count": null,
      "metadata": {
        "id": "hcI2p6iQXFdy",
        "colab": {
          "base_uri": "https://localhost:8080/"
        },
        "outputId": "dd9e7ca2-f54f-4f91-a33b-d73b35df3d9c"
      },
      "outputs": [
        {
          "output_type": "stream",
          "name": "stdout",
          "text": [
            "1 0 2 3 5 4 "
          ]
        }
      ],
      "source": [
        "import collections\n",
        "def bfs(graph, start):\n",
        "  visited = set()\n",
        "  queue = collections.deque([start])\n",
        "  visited.add(start)\n",
        "  while queue:\n",
        "    node = queue.popleft()\n",
        "    print(node, end=\" \")\n",
        "    neighbours = graph[node]\n",
        "    for neighbour in neighbours:\n",
        "      if neighbour not in visited:\n",
        "        visited.add(neighbour)\n",
        "        queue.append(neighbour)\n",
        "graph = {\n",
        "  0: [1],\n",
        "  1: [0, 2, 3],\n",
        "  2: [1, 5],\n",
        "  3: [1, 4],\n",
        "  4: [3, 5],\n",
        "  5: [2, 4]\n",
        "}\n",
        "bfs(graph, 1)"
      ]
    },
    {
      "cell_type": "code",
      "source": [
        "import collections\n",
        "def dfs(graph, start):\n",
        "  visited = set()\n",
        "  stack = collections.deque([start])\n",
        "  visited.add(start)\n",
        "  while stack:\n",
        "    node = stack.pop()\n",
        "    print(node, end=\" \")\n",
        "    neighbours = graph[node]\n",
        "    for neighbour in neighbours:\n",
        "      if neighbour not in visited:\n",
        "        visited.add(neighbour)\n",
        "        stack.append(neighbour)\n",
        "graph = {\n",
        "  \"S\": [\"A\", \"C\", \"G\"],\n",
        "  \"A\": [\"B\"],\n",
        "  \"B\": [],\n",
        "  \"C\": [\"D\", \"F\"],\n",
        "  \"D\": [],\n",
        "  \"E\": [],\n",
        "  \"F\": [\"E\", \"H\"],\n",
        "  \"G\": [],\n",
        "  \"H\": []\n",
        "}\n",
        "dfs(graph, \"S\")"
      ],
      "metadata": {
        "colab": {
          "base_uri": "https://localhost:8080/"
        },
        "id": "U8ZENhg_fGgM",
        "outputId": "0c2b8237-0d6a-4677-f7bc-5c2af7cb3810"
      },
      "execution_count": null,
      "outputs": [
        {
          "output_type": "stream",
          "name": "stdout",
          "text": [
            "S G C F H E D A B "
          ]
        }
      ]
    }
  ]
}