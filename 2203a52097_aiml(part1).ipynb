{
  "nbformat": 4,
  "nbformat_minor": 0,
  "metadata": {
    "colab": {
      "provenance": [],
      "mount_file_id": "1Oqb1a3e0yWibn_vphwUR6aKHNXQGuYTY",
      "authorship_tag": "ABX9TyNuha3ZbAnA4SGCBuLvXFWU",
      "include_colab_link": true
    },
    "kernelspec": {
      "name": "python3",
      "display_name": "Python 3"
    },
    "language_info": {
      "name": "python"
    }
  },
  "cells": [
    {
      "cell_type": "markdown",
      "metadata": {
        "id": "view-in-github",
        "colab_type": "text"
      },
      "source": [
        "<a href=\"https://colab.research.google.com/github/LAGISHETTYNANDITHA/aiml-2024/blob/main/2203a52097_aiml(part1).ipynb\" target=\"_parent\"><img src=\"https://colab.research.google.com/assets/colab-badge.svg\" alt=\"Open In Colab\"/></a>"
      ]
    },
    {
      "cell_type": "markdown",
      "source": [
        "**part 1**"
      ],
      "metadata": {
        "id": "1Ub2fQtEg0C0"
      }
    },
    {
      "cell_type": "code",
      "execution_count": null,
      "metadata": {
        "id": "cby1zwMNDoZ0",
        "outputId": "14739f84-fc19-4b74-9c06-d17f4352f5ae",
        "colab": {
          "base_uri": "https://localhost:8080/"
        }
      },
      "outputs": [
        {
          "output_type": "stream",
          "name": "stdout",
          "text": [
            "list1 [1, 2, 3]\n",
            "n1 [1 2 3]\n",
            "type= <class 'numpy.ndarray'>\n",
            "type= <class 'list'>\n"
          ]
        }
      ],
      "source": [
        "#1,2,3 questions\n",
        "import numpy as np\n",
        "list1=[1,2,3]\n",
        "n1=np.array(list1)\n",
        "print(\"list1\",list1)\n",
        "print(\"n1\",n1)\n",
        "print(\"type=\",type(n1))\n",
        "print(\"type=\",type(list1))"
      ]
    },
    {
      "cell_type": "code",
      "source": [
        "# 4th code\n",
        "import numpy as np\n",
        "arr1=(5,6,7,8)\n",
        "arr2=(9,10,11,12)\n",
        "mul=np.multiply(arr1,arr2)\n",
        "print(mul)\n",
        "div=np.divide(arr1,arr2)\n",
        "print(div)\n",
        "pow=np.power(arr1,arr2)\n",
        "print(pow)"
      ],
      "metadata": {
        "colab": {
          "base_uri": "https://localhost:8080/"
        },
        "id": "mbnQs0EAhtC8",
        "outputId": "8f9fc6ca-a775-4210-c307-f95b6e4a8384"
      },
      "execution_count": null,
      "outputs": [
        {
          "output_type": "stream",
          "name": "stdout",
          "text": [
            "[45 60 77 96]\n",
            "[0.55555556 0.6        0.63636364 0.66666667]\n",
            "[    1953125    60466176  1977326743 68719476736]\n"
          ]
        }
      ]
    },
    {
      "cell_type": "code",
      "source": [
        "#5th question\n",
        "data1 = np.array([2, 4, 6, 8, 10])\n",
        "data2 =np.array( [1, 2, 3, 4, 5])\n",
        "print(\"addition of two array:\",data1+data2)"
      ],
      "metadata": {
        "colab": {
          "base_uri": "https://localhost:8080/"
        },
        "id": "5poKv370hy79",
        "outputId": "194a8987-7e86-4be6-8048-714f96ff27a3"
      },
      "execution_count": null,
      "outputs": [
        {
          "output_type": "stream",
          "name": "stdout",
          "text": [
            "addition of two array: [ 3  6  9 12 15]\n"
          ]
        }
      ]
    },
    {
      "cell_type": "code",
      "source": [
        "#6th code\n",
        "list1=[1,2,3,4]\n",
        "print(np.sin(list1))\n",
        "print(np.log(list1))\n",
        "print(np.log2(list1))\n",
        "print(np.exp(list1))"
      ],
      "metadata": {
        "id": "v86FWjWyF2vW",
        "colab": {
          "base_uri": "https://localhost:8080/"
        },
        "outputId": "f8fae85c-908d-4cde-a6a9-15eda3734c4b"
      },
      "execution_count": null,
      "outputs": [
        {
          "output_type": "stream",
          "name": "stdout",
          "text": [
            "[ 0.84147098  0.90929743  0.14112001 -0.7568025 ]\n",
            "[0.         0.69314718 1.09861229 1.38629436]\n",
            "[0.        1.        1.5849625 2.       ]\n",
            "[ 2.71828183  7.3890561  20.08553692 54.59815003]\n"
          ]
        }
      ]
    },
    {
      "cell_type": "code",
      "source": [
        "from google.colab import drive\n",
        "drive.mount('/content/drive')"
      ],
      "metadata": {
        "id": "PQ2EJMepjfgT"
      },
      "execution_count": null,
      "outputs": []
    }
  ]
}